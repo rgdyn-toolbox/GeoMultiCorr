{
 "cells": [
  {
   "cell_type": "code",
   "execution_count": 2,
   "metadata": {},
   "outputs": [
    {
     "name": "stdout",
     "output_type": "stream",
     "text": [
      "---------\n",
      "telenvi 5.0.1\n",
      "---------\n",
      "oui\n",
      "---------\n",
      "GeoMultiCorr 0.0.0\n",
      "---------\n"
     ]
    }
   ],
   "source": [
    "# Import du script gmc_project\n",
    "# Attention, il faut que ton jupyter notebook (le fichier que t'es en train de lire) soit situé dans le répertoire src de GeoMultiCorr (Je ne sais plus où tu l'as installé sur ton pc)\n",
    "import gmc_project\n",
    "import geopandas as gpd\n",
    "from matplotlib import pyplot as plt\n",
    "\n",
    "# Création d'un objet de la classe GMC_Project, elle même écrite dans le script gmc_project qu'on a importé juste avant\n",
    "etude = gmc_project.GMC_Project('/media/duvanelt/TD002/sandbox_gmc/vanoise/')"
   ]
  },
  {
   "cell_type": "code",
   "execution_count": 3,
   "metadata": {},
   "outputs": [],
   "source": [
    "ge = etude.get_geomorphs('FR730049')[0]\n",
    "sp = ge.get_spines()[0]"
   ]
  },
  {
   "cell_type": "code",
   "execution_count": 4,
   "metadata": {},
   "outputs": [
    {
     "name": "stdout",
     "output_type": "stream",
     "text": [
      "<class 'shapely.geometry.multipolygon.MultiPolygon'>\n"
     ]
    },
    {
     "name": "stderr",
     "output_type": "stream",
     "text": [
      "100%|██████████| 142/142 [02:20<00:00,  1.01it/s]\n"
     ]
    }
   ],
   "source": [
    "ref_year = 2014\n",
    "ref_sensor = 'spot6'\n",
    "pairs = etude.get_pairs([sp.sp_pz.pz_name, ref_year])\n",
    "pairs = list(filter(lambda x: x.pa_left.th_year == ref_year and x.pa_status == 'complete', pairs))\n",
    "sp.inspect_pairs(pairs, note=ref_year, backmapyear=ref_year, backmapsensor=ref_sensor)"
   ]
  },
  {
   "cell_type": "code",
   "execution_count": null,
   "metadata": {},
   "outputs": [],
   "source": []
  }
 ],
 "metadata": {
  "kernelspec": {
   "display_name": "rgdyn-env",
   "language": "python",
   "name": "python3"
  },
  "language_info": {
   "codemirror_mode": {
    "name": "ipython",
    "version": 3
   },
   "file_extension": ".py",
   "mimetype": "text/x-python",
   "name": "python",
   "nbconvert_exporter": "python",
   "pygments_lexer": "ipython3",
   "version": "3.10.6"
  },
  "orig_nbformat": 4,
  "vscode": {
   "interpreter": {
    "hash": "e4b8104cff4f5a5ed5839b0d19406e81fbaba285221696aced92ac096178c7d4"
   }
  }
 },
 "nbformat": 4,
 "nbformat_minor": 2
}
