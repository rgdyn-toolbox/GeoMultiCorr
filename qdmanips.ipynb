{
 "cells": [
  {
   "cell_type": "code",
   "execution_count": null,
   "metadata": {},
   "outputs": [],
   "source": [
    "from pathlib import Path"
   ]
  },
  {
   "cell_type": "code",
   "execution_count": null,
   "metadata": {},
   "outputs": [],
   "source": [
    "base = Path('/media/duvanelt/TD002/sandbox_gmc/vanoise/raster_data/')"
   ]
  },
  {
   "cell_type": "code",
   "execution_count": null,
   "metadata": {},
   "outputs": [],
   "source": [
    "import os\n",
    "res = list(filter(lambda x: x.is_dir(), list(base.glob('*settings*'))))\n",
    "for target_to_move in res :\n",
    "    pzname = target_to_move.name.split('_')[0]\n",
    "    pz_disp_path = Path(base, pzname, 'displacements')\n",
    "    if not pz_disp_path.exists():\n",
    "        pz_disp_path.mkdir()\n",
    "    new_location = Path(pz_disp_path, target_to_move.name)\n",
    "    if not new_location.exists():\n",
    "        os.system(f\"mv {target_to_move} {new_location}\")"
   ]
  },
  {
   "cell_type": "code",
   "execution_count": 43,
   "metadata": {},
   "outputs": [],
   "source": [
    "from pathlib import Path\n",
    "import re\n",
    "import shutil\n",
    "import os\n",
    "\n",
    "base = Path('/media/duvanelt/TD002/sandbox_gmc/vanoise/raster_data/')\n",
    "\n",
    "'iseran_2009-08-27-AERIAL_2014-09-13-SPOT6'\n",
    "\n",
    "for pz in os.listdir(base):\n",
    "    disp = os.path.join(base, pz, 'displacements')\n",
    "    \n",
    "    for pair in os.listdir(disp):\n",
    "        pair_path = os.path.join(disp, pair)\n",
    "        ly,ld,lm, left_sensor = pair.split('_')[1].split('-')\n",
    "        left_date = f\"{ly}-{ld}-{lm}\"\n",
    "        ry,rd,rm, right_sensor = pair.split('_')[2].split('-')\n",
    "        right_date = f\"{ry}-{rd}-{rm}\"\n",
    "        new_key = pair\n",
    "        aot = Path(pair_path, 'asp_outputs')\n",
    "        old_pattern = re.compile(f\".*{pz}_{left_date}_{left_sensor}_{pz}_{right_date}_{right_sensor}.*\")\n",
    "        for targetpath in filter(lambda x: re.compile(old_pattern).match(x.name), list(aot.glob(pattern='*'))):\n",
    "            cible=targetpath\n",
    "            ciblename = cible.name\n",
    "            pat = re.compile(f\"{pz}_{left_date}_{left_sensor}_{pz}_{right_date}_{right_sensor}\")\n",
    "            start, end = re.search(pat, ciblename).span()\n",
    "            before = ciblename[:start]\n",
    "            new_key = new_key\n",
    "            after = ciblename[end:]\n",
    "            new_name = f\"{before}{new_key}{after}\"\n",
    "            start, end = re.search('_2_7_', new_name).span()\n",
    "            before = new_name[:start]\n",
    "            end = new_name[end:]\n",
    "            new_name = f\"{before}_{end}\"\n",
    "            new_name\n",
    "            new_path = cible.with_name(new_name)\n",
    "            os.system(f\"mv {cible} {new_path}\")"
   ]
  },
  {
   "cell_type": "code",
   "execution_count": 41,
   "metadata": {},
   "outputs": [
    {
     "data": {
      "text/plain": [
       "'turia_2019-08-23-AERIAL_2009-08-27-AERIAL'"
      ]
     },
     "execution_count": 41,
     "metadata": {},
     "output_type": "execute_result"
    }
   ],
   "source": [
    "new_key"
   ]
  },
  {
   "cell_type": "code",
   "execution_count": null,
   "metadata": {},
   "outputs": [],
   "source": []
  }
 ],
 "metadata": {
  "kernelspec": {
   "display_name": "rgdyn-env",
   "language": "python",
   "name": "python3"
  },
  "language_info": {
   "codemirror_mode": {
    "name": "ipython",
    "version": 3
   },
   "file_extension": ".py",
   "mimetype": "text/x-python",
   "name": "python",
   "nbconvert_exporter": "python",
   "pygments_lexer": "ipython3",
   "version": "3.10.6"
  },
  "orig_nbformat": 4,
  "vscode": {
   "interpreter": {
    "hash": "e4b8104cff4f5a5ed5839b0d19406e81fbaba285221696aced92ac096178c7d4"
   }
  }
 },
 "nbformat": 4,
 "nbformat_minor": 2
}
